{
 "cells": [
  {
   "cell_type": "code",
   "execution_count": null,
   "id": "99ac8bbf",
   "metadata": {},
   "outputs": [],
   "source": [
    "import requests\n",
    "from bs4 import BeautifulSoup  \n",
    "import pandas as pd\n"
   ]
  },
  {
   "cell_type": "code",
   "execution_count": null,
   "id": "cb87d7cf",
   "metadata": {},
   "outputs": [],
   "source": [
    "website_url = 'https://countrymusichalloffame.org/hall-of-fame/members/'\n",
    "response = requests.get(website_url)\n",
    "\n",
    "response.status_code"
   ]
  },
  {
   "cell_type": "code",
   "execution_count": null,
   "id": "bde096b8",
   "metadata": {},
   "outputs": [],
   "source": [
    "print(type(response))\n",
    "response.content"
   ]
  },
  {
   "cell_type": "code",
   "execution_count": null,
   "id": "1b75129e",
   "metadata": {},
   "outputs": [],
   "source": [
    "country_star = BeautifulSoup(response.content)\n",
    "print(country_star.title)"
   ]
  },
  {
   "cell_type": "code",
   "execution_count": null,
   "id": "5d0e1b2d",
   "metadata": {},
   "outputs": [],
   "source": [
    "print(country_star)"
   ]
  },
  {
   "cell_type": "code",
   "execution_count": null,
   "id": "326e0970",
   "metadata": {},
   "outputs": [],
   "source": [
    "members = country_star.find_all('div', attrs = {'class': 'vertical-card_content--title'})\n",
    "members"
   ]
  },
  {
   "cell_type": "code",
   "execution_count": null,
   "id": "380fa08b",
   "metadata": {},
   "outputs": [],
   "source": [
    "for members in members:\n",
    "     print(members, end='\\n'*2)"
   ]
  },
  {
   "cell_type": "markdown",
   "id": "cb43fbd0",
   "metadata": {},
   "source": [
    "artist = []\n",
    "for i in range(len(members)):\n",
    "    name = members[i].get_text.replace('\\n','')\n",
    "artist.append(name)\n",
    "print(artist)\n",
    "type(members)"
   ]
  },
  {
   "cell_type": "code",
   "execution_count": null,
   "id": "b98e2069",
   "metadata": {},
   "outputs": [],
   "source": [
    "####AMAZON TRIAL:DATACAMP"
   ]
  },
  {
   "cell_type": "code",
   "execution_count": null,
   "id": "44e5b475",
   "metadata": {},
   "outputs": [],
   "source": [
    "no_pages = 1\n",
    "\n",
    "def get_data(pageNo):  \n",
    "    headers = {\"User-Agent\":\"Mozilla/5.0 (Windows NT 10.0; Win64; x64; rv:66.0) Gecko/20100101 Firefox/66.0\", \"Accept-Encoding\":\"gzip, deflate\", \"Accept\":\"text/html,application/xhtml+xml,application/xml;q=0.9,*/*;q=0.8\", \"DNT\":\"1\",\"Connection\":\"close\", \"Upgrade-Insecure-Requests\":\"1\"}\n",
    "\n",
    "    r = requests.get('https://countrymusichalloffame.org/hall-of-fame/members/'+str(pageNo)+str(pageNo), headers=headers)#, proxies=proxies)\n",
    "    content = r.content\n",
    "    soup = BeautifulSoup(content)\n",
    "    #print(soup)\n",
    "    \n",
    "    #Similar to what Holland share with us on artist names\n",
    "    alls = []\n",
    "    for d in soup.findAll('div', attrs={'class':'vertical-card'}):\n",
    "        #print(d)\n",
    "        name = d.find('div', attrs={'class':'vertical-card_content--title'})\n",
    "        author = d.find('div', attrs={'class':'Roy Acuff'})\n",
    "        rating = d.find('div', attrs={'class':'vertical-card_content--copy'})#change to inducted for year\n",
    "       \n",
    "    return alls"
   ]
  },
  {
   "cell_type": "code",
   "execution_count": null,
   "id": "2f6d0301",
   "metadata": {},
   "outputs": [],
   "source": [
    "results = []\n",
    "for i in range(1, no_pages+1):\n",
    "    results.append(get_data(i))\n",
    "flatten = lambda l: [item for sublist in l for item in sublist]\n",
    "df = pd.DataFrame(flatten(results),columns=['Book Name','Author','Rating','Customers_Rated', 'Price'])\n",
    "df.to_csv('CMHOF.csv', index=False, encoding='utf-8')"
   ]
  },
  {
   "cell_type": "code",
   "execution_count": null,
   "id": "657a5324",
   "metadata": {},
   "outputs": [],
   "source": [
    "df = pd.read_csv(\"CMHOF.csv\")"
   ]
  },
  {
   "cell_type": "code",
   "execution_count": null,
   "id": "4e6bc838",
   "metadata": {},
   "outputs": [],
   "source": [
    "df.shape"
   ]
  },
  {
   "cell_type": "code",
   "execution_count": null,
   "id": "4d87f6b8",
   "metadata": {},
   "outputs": [],
   "source": [
    "df.head(61)"
   ]
  }
 ],
 "metadata": {
  "kernelspec": {
   "display_name": "Python 3",
   "language": "python",
   "name": "python3"
  },
  "language_info": {
   "codemirror_mode": {
    "name": "ipython",
    "version": 3
   },
   "file_extension": ".py",
   "mimetype": "text/x-python",
   "name": "python",
   "nbconvert_exporter": "python",
   "pygments_lexer": "ipython3",
   "version": "3.8.8"
  }
 },
 "nbformat": 4,
 "nbformat_minor": 5
}
