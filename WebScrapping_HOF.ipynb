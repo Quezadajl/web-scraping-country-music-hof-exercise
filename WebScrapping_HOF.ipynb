{
 "cells": [
  {
   "cell_type": "code",
   "execution_count": 11,
   "id": "99ac8bbf",
   "metadata": {},
   "outputs": [],
   "source": [
    "import pandas as pd\n",
    "import numpy as np\n",
    "import matplotlib.pyplot as plt\n",
    "import seaborn as sns\n",
    "%matplotlib inline\n",
    "import re\n",
    "import time\n",
    "from datetime import datetime\n",
    "import matplotlib.dates as mdates\n",
    "import matplotlib.ticker as ticker\n",
    "from urllib.request import urlopen\n",
    "from bs4 import BeautifulSoup\n",
    "import requests"
   ]
  },
  {
   "cell_type": "code",
   "execution_count": 12,
   "id": "cb87d7cf",
   "metadata": {},
   "outputs": [
    {
     "data": {
      "text/plain": [
       "200"
      ]
     },
     "execution_count": 12,
     "metadata": {},
     "output_type": "execute_result"
    }
   ],
   "source": [
    "website_url = 'https://countrymusichalloffame.org/hall-of-fame/members/'\n",
    "response = requests.get(website_url)\n",
    "\n",
    "response.status_code"
   ]
  },
  {
   "cell_type": "code",
   "execution_count": null,
   "id": "bde096b8",
   "metadata": {},
   "outputs": [],
   "source": [
    "print(type(response))\n",
    "response.content"
   ]
  },
  {
   "cell_type": "code",
   "execution_count": 14,
   "id": "1b75129e",
   "metadata": {},
   "outputs": [
    {
     "name": "stdout",
     "output_type": "stream",
     "text": [
      "<title>Hall of Fame Members | Country Music Hall of Fame</title>\n"
     ]
    }
   ],
   "source": [
    "country_star = BeautifulSoup(response.content)\n",
    "print(country_star.title)"
   ]
  },
  {
   "cell_type": "code",
   "execution_count": null,
   "id": "5d0e1b2d",
   "metadata": {},
   "outputs": [],
   "source": [
    "print(country_star)"
   ]
  },
  {
   "cell_type": "code",
   "execution_count": 77,
   "id": "92559585",
   "metadata": {},
   "outputs": [
    {
     "data": {
      "text/plain": [
       "[<div class=\"vertical-card_content--title\">\n",
       " <h3>Roy Acuff</h3>\n",
       " </div>,\n",
       " <div class=\"vertical-card_content--title\">\n",
       " <h3>Alabama</h3>\n",
       " </div>,\n",
       " <div class=\"vertical-card_content--title\">\n",
       " <h3>Bill Anderson</h3>\n",
       " </div>,\n",
       " <div class=\"vertical-card_content--title\">\n",
       " <h3>Eddy Arnold</h3>\n",
       " </div>,\n",
       " <div class=\"vertical-card_content--title\">\n",
       " <h3>Chet Atkins</h3>\n",
       " </div>,\n",
       " <div class=\"vertical-card_content--title\">\n",
       " <h3>Gene Autry</h3>\n",
       " </div>,\n",
       " <div class=\"vertical-card_content--title\">\n",
       " <h3>DeFord Bailey</h3>\n",
       " </div>,\n",
       " <div class=\"vertical-card_content--title\">\n",
       " <h3>Bobby Bare</h3>\n",
       " </div>,\n",
       " <div class=\"vertical-card_content--title\">\n",
       " <h3>Johnny Bond</h3>\n",
       " </div>]"
      ]
     },
     "execution_count": 77,
     "metadata": {},
     "output_type": "execute_result"
    }
   ],
   "source": [
    "tables = country_star.find_all('div', attrs = {'class': 'vertical-card_content--title'})\n",
    "tables "
   ]
  },
  {
   "cell_type": "code",
   "execution_count": 78,
   "id": "b16ef54e",
   "metadata": {},
   "outputs": [],
   "source": [
    "mbr=str(tables[0])"
   ]
  },
  {
   "cell_type": "code",
   "execution_count": 79,
   "id": "62a02d66",
   "metadata": {},
   "outputs": [
    {
     "data": {
      "text/plain": [
       "['<div class=\"vertical',\n",
       " 'card_content',\n",
       " 'title\">\\n<h',\n",
       " '>Roy Acuff</h',\n",
       " '>\\n</div>']"
      ]
     },
     "execution_count": 79,
     "metadata": {},
     "output_type": "execute_result"
    }
   ],
   "source": [
    "re.findall(r\"[^()0-9-]+\", mbr)"
   ]
  },
  {
   "cell_type": "code",
   "execution_count": 91,
   "id": "d5e646ed",
   "metadata": {},
   "outputs": [
    {
     "name": "stdout",
     "output_type": "stream",
     "text": [
      "Masks are required for educational programs in the Museum’s theaters and classrooms, as well as for tours to Historic RCA Studio B and Hatch Show Print.\n",
      "Select Another Site Hatch Show Print Historic RCA Studio B CMA Theater\n",
      "Open Daily\n",
      "Become a Museum Member Museum Member Log In\n",
      "0\n",
      "Hall of Fame\n",
      "Members\n",
      "Induction: Medallion Ceremony\n",
      "Election Process\n",
      "Hall of Fame Rotunda\n",
      "Architecture\n",
      "Plaques\n",
      "Circle Guard\n",
      "Rite of Remembrance and Salute\n",
      "Ceremonial Stole\n",
      "Support the Hall Collections\n",
      "Digital Archive\n",
      "Moving Image Collection\n",
      "Bob Pinson Recorded Sound Collection\n",
      "Photographs\n",
      "Google Arts & Culture\n",
      "Donate to the Collection Education\n",
      "School Programs\n",
      "Plan A Field Trip\n",
      "Distance & Virtual Learning\n",
      "Words & Music\n",
      "Teacher & Student Resource Portal\n",
      "Public Programs\n",
      "Youth & Family Programs\n",
      "Community & Library Programs\n",
      "Instruments Watch & Listen\n",
      "Videos\n",
      "Podcasts Plan Your Visit\n",
      "Know Before You Go\n",
      "Current Exhibits\n",
      "Event & Program Calendar\n",
      "Shopping & Dining\n",
      "Group Tours\n",
      "Field Trips\n",
      "Locals Admission\n",
      "Policies, Accessibility & FAQ\n",
      "COVID-19 Policies and Procedures\n",
      "Hotel Packages\n",
      "International Visitors Shop Donate Buy Tickets\n",
      "Select Another Site\n",
      "Hatch Show Print\n",
      "Historic RCA Studio B\n",
      "CMA Theater\n",
      "Menu\n",
      "Hall of Fame\n",
      "Members\n",
      "Induction: Medallion Ceremony\n",
      "Election Process\n",
      "Hall of Fame Rotunda\n",
      "Architecture\n",
      "Plaques\n",
      "Circle Guard\n",
      "Rite of Remembrance and Salute\n",
      "Ceremonial Stole\n",
      "Support the Hall\n",
      "Collections\n",
      "Digital Archive\n",
      "Moving Image Collection\n",
      "Bob Pinson Recorded Sound Collection\n",
      "Photographs\n",
      "Google Arts & Culture\n",
      "Donate to the Collection\n",
      "Education\n",
      "School Programs\n",
      "Plan A Field Trip\n",
      "Distance & Virtual Learning\n",
      "Words & Music\n",
      "Teacher & Student Resource Portal\n",
      "Public Programs\n",
      "Youth & Family Programs\n",
      "Community & Library Programs\n",
      "Instruments\n",
      "Watch & Listen\n",
      "Videos\n",
      "Podcasts\n",
      "Plan Your Visit\n",
      "Know Before You Go\n",
      "Current Exhibits\n",
      "Event & Program Calendar\n",
      "Shopping & Dining\n",
      "Group Tours\n",
      "Field Trips\n",
      "Locals Admission\n",
      "Policies, Accessibility & FAQ\n",
      "COVID-19 Policies and Procedures\n",
      "Hotel Packages\n",
      "International Visitors\n",
      "Shop\n",
      "Donate\n",
      "Buy Tickets\n",
      "Plan Your Visit\n",
      "Venue Rental\n",
      "Become a Museum Member\n",
      "Museum Member Log In\n",
      "Plan Your Visit\n",
      "Shop\n",
      "Buy Tickets\n",
      "Members\n",
      "Election to the Country Music Hall of Fame is country music's highest honor. The Country Music Association (CMA), the country music industry's trade organization, created the accolade to recognize significant contributions to the advancement of country music by individuals in both the creative and business communities. The first members—Jimmie Rodgers, Fred Rose, and Hank Williams—were inducted in 1961.\n",
      "Roy Acuff\n",
      "Inducted 1962\n",
      "Learn More\n",
      "Alabama\n",
      "Inducted 2005\n",
      "Learn More\n",
      "Bill Anderson\n",
      "Inducted 2001\n",
      "Learn More\n",
      "Eddy Arnold\n",
      "Inducted 1966\n",
      "Learn More\n",
      "Chet Atkins\n",
      "Inducted 1973\n",
      "Learn More\n",
      "Gene Autry\n",
      "Inducted 1969\n",
      "Learn More\n",
      "DeFord Bailey\n",
      "Inducted 2005\n",
      "Learn More\n",
      "Bobby Bare\n",
      "Inducted 2013\n",
      "Learn More\n",
      "Johnny Bond\n",
      "Inducted 1999\n",
      "Learn More\n",
      "1\n",
      "2\n",
      "3\n",
      "4\n",
      "…\n",
      "16\n",
      "About Employment Support Venue Rental Volunteer Contact Media Internships\n",
      "STAY UP TO DATE\n",
      "SIGN UP FOR OUR NEWSLETTER\n",
      "FOLLOW US\n",
      "Country Music Hall of Fame and Museum • 222 Rep. John Lewis Way S Nashville, TN 37203 • Phone: 615.416.2001 ©2018 Country Music Hall of Fame® and Museum All Rights Reserved |\n",
      "Privacy Policy\n",
      "|\n",
      "Terms Of Use\n",
      "Site Designed and Developed by  5by5 - A Change Agency\n",
      "We use cookies in the following ways: (1) for system administration, (2) to assess the performance of the website, (3) to personalize your experience, content and ads, (4) to provide social media features, and (5) to analyze our traffic. You consent to our cookies if you continue to use our website.  Please consult instructions for your web browser to disable or block cookies, or to receive a warning before a cookie is stored on your computer or mobile device.\n",
      "That's Fine\n"
     ]
    }
   ],
   "source": [
    "from urllib.request import urlopen\n",
    "from bs4 import BeautifulSoup\n",
    "\n",
    "url = \"https://countrymusichalloffame.org/hall-of-fame/members/\"\n",
    "html = urlopen(url).read()\n",
    "soup = BeautifulSoup(html, features=\"html.parser\")\n",
    "\n",
    "# delete all script and style elements\n",
    "for script in soup([\"script\", \"style\"]):\n",
    "    script.extract()    # rip it out\n",
    "\n",
    "# get text\n",
    "text = soup.body.get_text(separator= ' ')\n",
    "\n",
    "# break into lines and remove leading and trailing space on each\n",
    "lines = (line.strip() for line in text.splitlines())\n",
    "# break multi-headlines into a line each\n",
    "chunks = (phrase.strip() for line in lines for phrase in line.split(\"  \"))\n",
    "# drop blank lines\n",
    "text = '\\n'.join(chunk for chunk in chunks if chunk)\n",
    "\n",
    "print(text)"
   ]
  },
  {
   "cell_type": "code",
   "execution_count": 93,
   "id": "e7b29d90",
   "metadata": {},
   "outputs": [],
   "source": [
    "ppl=str(text[0])"
   ]
  },
  {
   "cell_type": "code",
   "execution_count": 99,
   "id": "ac09e1e1",
   "metadata": {},
   "outputs": [
    {
     "data": {
      "text/plain": [
       "[]"
      ]
     },
     "execution_count": 99,
     "metadata": {},
     "output_type": "execute_result"
    }
   ],
   "source": [
    "re.findall(r\"Roy\", ppl)"
   ]
  },
  {
   "cell_type": "code",
   "execution_count": null,
   "id": "31647553",
   "metadata": {},
   "outputs": [],
   "source": []
  },
  {
   "cell_type": "code",
   "execution_count": 28,
   "id": "326e0970",
   "metadata": {},
   "outputs": [
    {
     "data": {
      "text/plain": [
       "[<div class=\"vertical-card_content--title\">\n",
       " <h3>Roy Acuff</h3>\n",
       " </div>,\n",
       " <div class=\"vertical-card_content--title\">\n",
       " <h3>Alabama</h3>\n",
       " </div>,\n",
       " <div class=\"vertical-card_content--title\">\n",
       " <h3>Bill Anderson</h3>\n",
       " </div>,\n",
       " <div class=\"vertical-card_content--title\">\n",
       " <h3>Eddy Arnold</h3>\n",
       " </div>,\n",
       " <div class=\"vertical-card_content--title\">\n",
       " <h3>Chet Atkins</h3>\n",
       " </div>,\n",
       " <div class=\"vertical-card_content--title\">\n",
       " <h3>Gene Autry</h3>\n",
       " </div>,\n",
       " <div class=\"vertical-card_content--title\">\n",
       " <h3>DeFord Bailey</h3>\n",
       " </div>,\n",
       " <div class=\"vertical-card_content--title\">\n",
       " <h3>Bobby Bare</h3>\n",
       " </div>,\n",
       " <div class=\"vertical-card_content--title\">\n",
       " <h3>Johnny Bond</h3>\n",
       " </div>]"
      ]
     },
     "execution_count": 28,
     "metadata": {},
     "output_type": "execute_result"
    }
   ],
   "source": [
    "members = country_star.find_all('div', attrs = {'class': 'vertical-card_content--title'})\n",
    "members "
   ]
  },
  {
   "cell_type": "code",
   "execution_count": 69,
   "id": "c1f8339e",
   "metadata": {},
   "outputs": [
    {
     "data": {
      "text/plain": [
       "bs4.element.Tag"
      ]
     },
     "execution_count": 69,
     "metadata": {},
     "output_type": "execute_result"
    }
   ],
   "source": [
    "type(members)"
   ]
  },
  {
   "cell_type": "code",
   "execution_count": 64,
   "id": "b6a0668c",
   "metadata": {},
   "outputs": [
    {
     "name": "stdout",
     "output_type": "stream",
     "text": [
      "<div class=\"vertical-card_content--title\">\n",
      "<h3>Roy Acuff</h3>\n",
      "</div>\n",
      "\n",
      "<div class=\"vertical-card_content--title\">\n",
      "<h3>Alabama</h3>\n",
      "</div>\n",
      "\n",
      "<div class=\"vertical-card_content--title\">\n",
      "<h3>Bill Anderson</h3>\n",
      "</div>\n",
      "\n",
      "<div class=\"vertical-card_content--title\">\n",
      "<h3>Eddy Arnold</h3>\n",
      "</div>\n",
      "\n",
      "<div class=\"vertical-card_content--title\">\n",
      "<h3>Chet Atkins</h3>\n",
      "</div>\n",
      "\n",
      "<div class=\"vertical-card_content--title\">\n",
      "<h3>Gene Autry</h3>\n",
      "</div>\n",
      "\n",
      "<div class=\"vertical-card_content--title\">\n",
      "<h3>DeFord Bailey</h3>\n",
      "</div>\n",
      "\n",
      "<div class=\"vertical-card_content--title\">\n",
      "<h3>Bobby Bare</h3>\n",
      "</div>\n",
      "\n",
      "<div class=\"vertical-card_content--title\">\n",
      "<h3>Johnny Bond</h3>\n",
      "</div>\n",
      "\n"
     ]
    }
   ],
   "source": [
    "for members in members:\n",
    "     print(members, end='\\n'*2)"
   ]
  },
  {
   "cell_type": "code",
   "execution_count": 67,
   "id": "01d24dd6",
   "metadata": {},
   "outputs": [
    {
     "ename": "KeyError",
     "evalue": "0",
     "output_type": "error",
     "traceback": [
      "\u001b[1;31m---------------------------------------------------------------------------\u001b[0m",
      "\u001b[1;31mKeyError\u001b[0m                                  Traceback (most recent call last)",
      "\u001b[1;32m<ipython-input-67-2850304d127b>\u001b[0m in \u001b[0;36m<module>\u001b[1;34m\u001b[0m\n\u001b[1;32m----> 1\u001b[1;33m \u001b[0mstr\u001b[0m\u001b[1;33m(\u001b[0m\u001b[0mcountry_star\u001b[0m\u001b[1;33m[\u001b[0m\u001b[1;36m0\u001b[0m\u001b[1;33m]\u001b[0m\u001b[1;33m)\u001b[0m\u001b[1;33m\u001b[0m\u001b[1;33m\u001b[0m\u001b[0m\n\u001b[0m",
      "\u001b[1;32m~\\anaconda3\\lib\\site-packages\\bs4\\element.py\u001b[0m in \u001b[0;36m__getitem__\u001b[1;34m(self, key)\u001b[0m\n\u001b[0;32m   1404\u001b[0m         \"\"\"tag[key] returns the value of the 'key' attribute for the Tag,\n\u001b[0;32m   1405\u001b[0m         and throws an exception if it's not there.\"\"\"\n\u001b[1;32m-> 1406\u001b[1;33m         \u001b[1;32mreturn\u001b[0m \u001b[0mself\u001b[0m\u001b[1;33m.\u001b[0m\u001b[0mattrs\u001b[0m\u001b[1;33m[\u001b[0m\u001b[0mkey\u001b[0m\u001b[1;33m]\u001b[0m\u001b[1;33m\u001b[0m\u001b[1;33m\u001b[0m\u001b[0m\n\u001b[0m\u001b[0;32m   1407\u001b[0m \u001b[1;33m\u001b[0m\u001b[0m\n\u001b[0;32m   1408\u001b[0m     \u001b[1;32mdef\u001b[0m \u001b[0m__iter__\u001b[0m\u001b[1;33m(\u001b[0m\u001b[0mself\u001b[0m\u001b[1;33m)\u001b[0m\u001b[1;33m:\u001b[0m\u001b[1;33m\u001b[0m\u001b[1;33m\u001b[0m\u001b[0m\n",
      "\u001b[1;31mKeyError\u001b[0m: 0"
     ]
    }
   ],
   "source": []
  },
  {
   "cell_type": "markdown",
   "id": "796b91e9",
   "metadata": {},
   "source": [
    "artist = []\n",
    "for i in range(len(members)):\n",
    "    name = members[i].get_text.replace('\\n','')\n",
    "artist.append(name)\n",
    "print(artist)\n",
    "type(members)"
   ]
  },
  {
   "cell_type": "code",
   "execution_count": null,
   "id": "00991ab0",
   "metadata": {},
   "outputs": [],
   "source": []
  }
 ],
 "metadata": {
  "kernelspec": {
   "display_name": "Python 3",
   "language": "python",
   "name": "python3"
  },
  "language_info": {
   "codemirror_mode": {
    "name": "ipython",
    "version": 3
   },
   "file_extension": ".py",
   "mimetype": "text/x-python",
   "name": "python",
   "nbconvert_exporter": "python",
   "pygments_lexer": "ipython3",
   "version": "3.8.8"
  }
 },
 "nbformat": 4,
 "nbformat_minor": 5
}
