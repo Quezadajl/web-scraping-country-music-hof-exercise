{
 "cells": [
  {
   "cell_type": "code",
   "execution_count": null,
   "id": "99ac8bbf",
   "metadata": {},
   "outputs": [],
   "source": [
    "import pandas as pd\n",
    "import numpy as np\n",
    "import matplotlib.pyplot as plt\n",
    "import seaborn as sns\n",
    "%matplotlib inline\n",
    "import re\n",
    "import time\n",
    "from datetime import datetime\n",
    "import matplotlib.dates as mdates\n",
    "import matplotlib.ticker as ticker\n",
    "from urllib.request import urlopen\n",
    "from bs4 import BeautifulSoup\n",
    "import requests"
   ]
  },
  {
   "cell_type": "code",
   "execution_count": null,
   "id": "cb87d7cf",
   "metadata": {},
   "outputs": [],
   "source": [
    "website_url = 'https://countrymusichalloffame.org/hall-of-fame/members/'\n",
    "response = requests.get(website_url)\n",
    "\n",
    "response.status_code"
   ]
  },
  {
   "cell_type": "code",
   "execution_count": null,
   "id": "bde096b8",
   "metadata": {},
   "outputs": [],
   "source": [
    "print(type(response))\n",
    "response.content"
   ]
  },
  {
   "cell_type": "code",
   "execution_count": null,
   "id": "1b75129e",
   "metadata": {},
   "outputs": [],
   "source": [
    "country_star = BeautifulSoup(response.content, 'lxml')\n",
    "print(country_star.title)"
   ]
  },
  {
   "cell_type": "code",
   "execution_count": null,
   "id": "5d0e1b2d",
   "metadata": {},
   "outputs": [],
   "source": [
    "print(country_star)"
   ]
  },
  {
   "cell_type": "code",
   "execution_count": null,
   "id": "9a7e7f48",
   "metadata": {},
   "outputs": [],
   "source": [
    "artist_names = country_star.find_all('h3')\n",
    "artist_names"
   ]
  },
  {
   "cell_type": "code",
   "execution_count": null,
   "id": "d050e41f",
   "metadata": {},
   "outputs": [],
   "source": [
    "type(artist_names)"
   ]
  },
  {
   "cell_type": "code",
   "execution_count": null,
   "id": "1375a81f",
   "metadata": {},
   "outputs": [],
   "source": [
    "artist_list = [ ]\n",
    "for artist in artist_names:\n",
    "    artist_list.append(artist.text)"
   ]
  },
  {
   "cell_type": "code",
   "execution_count": null,
   "id": "99e0ba6f",
   "metadata": {},
   "outputs": [],
   "source": [
    "artist_list = [artist.text for artist in artist_names]"
   ]
  },
  {
   "cell_type": "code",
   "execution_count": null,
   "id": "ab40840e",
   "metadata": {},
   "outputs": [],
   "source": [
    "artist_list"
   ]
  },
  {
   "cell_type": "code",
   "execution_count": null,
   "id": "b3ac052a",
   "metadata": {},
   "outputs": [],
   "source": [
    "type(artist_names)"
   ]
  },
  {
   "cell_type": "code",
   "execution_count": null,
   "id": "fffbeaf4",
   "metadata": {},
   "outputs": [],
   "source": [
    "#Add 2nd page with same code"
   ]
  },
  {
   "cell_type": "markdown",
   "id": "5c981110",
   "metadata": {},
   "source": [
    "### Question 2"
   ]
  },
  {
   "cell_type": "code",
   "execution_count": null,
   "id": "1d0db2ff",
   "metadata": {},
   "outputs": [],
   "source": [
    "year_inducted_soup = country_star.find_all('p')"
   ]
  },
  {
   "cell_type": "code",
   "execution_count": null,
   "id": "de0eecac",
   "metadata": {},
   "outputs": [],
   "source": [
    "year_inducted_soup = country_star.find_all('div', attrs = {'class': 'vertical-card_content--copy'})"
   ]
  },
  {
   "cell_type": "code",
   "execution_count": null,
   "id": "9a7e6462",
   "metadata": {},
   "outputs": [],
   "source": [
    "len(year_inducted_soup)"
   ]
  },
  {
   "cell_type": "code",
   "execution_count": null,
   "id": "0873f6e2",
   "metadata": {},
   "outputs": [],
   "source": [
    "year_inducted_soup[0].text"
   ]
  },
  {
   "cell_type": "code",
   "execution_count": null,
   "id": "7e1f2b74",
   "metadata": {},
   "outputs": [],
   "source": [
    "years_inducted = [int(re.findall('\\d+', year_str.text)[0]) for year_str in year_inducted_soup\n",
    "                     if re.match(\"\\s+Inducted\\s\\d+\\s+\", year_str.text)]"
   ]
  },
  {
   "cell_type": "code",
   "execution_count": null,
   "id": "1f53ac6b",
   "metadata": {},
   "outputs": [],
   "source": [
    "years_inducted"
   ]
  },
  {
   "cell_type": "code",
   "execution_count": null,
   "id": "4998fabe",
   "metadata": {},
   "outputs": [],
   "source": [
    "years =[int(year_inducted.text.strip().replace('Inducted ',\"\")) for year_inducted in year_inducted_soup]"
   ]
  },
  {
   "cell_type": "code",
   "execution_count": null,
   "id": "3af644c2",
   "metadata": {},
   "outputs": [],
   "source": [
    "years"
   ]
  },
  {
   "cell_type": "code",
   "execution_count": null,
   "id": "02dc1931",
   "metadata": {},
   "outputs": [],
   "source": [
    "years = []\n",
    "#iteration = 0\n",
    "for year_inducted in year_inducted_soup:\n",
    "#   print\n",
    "    years.append(int(year_inducted.text.strip().replace('Inducted ',\"\")))\n",
    "years"
   ]
  },
  {
   "cell_type": "code",
   "execution_count": null,
   "id": "fc27abee",
   "metadata": {},
   "outputs": [],
   "source": [
    "new_years = []\n",
    "for i in range(len(years)):\n",
    "    new_years.append(years[i] - 2000)"
   ]
  },
  {
   "cell_type": "code",
   "execution_count": null,
   "id": "9a1aed86",
   "metadata": {},
   "outputs": [],
   "source": [
    "new_years"
   ]
  },
  {
   "cell_type": "markdown",
   "id": "f0b272ac",
   "metadata": {},
   "source": [
    "### Question 3 Combine list"
   ]
  },
  {
   "cell_type": "code",
   "execution_count": null,
   "id": "1ca7a319",
   "metadata": {},
   "outputs": [],
   "source": [
    "artist_list"
   ]
  },
  {
   "cell_type": "code",
   "execution_count": null,
   "id": "721102b3",
   "metadata": {},
   "outputs": [],
   "source": [
    "years_inducted"
   ]
  },
  {
   "cell_type": "code",
   "execution_count": null,
   "id": "fe203e80",
   "metadata": {},
   "outputs": [],
   "source": [
    "hof_df=pd.DataFrame(\n",
    "    {\n",
    "        \"artist\":artist_list,\n",
    "        \"years_inducted\":years_inducted\n",
    "    }\n",
    ")"
   ]
  },
  {
   "cell_type": "code",
   "execution_count": null,
   "id": "39112ea6",
   "metadata": {},
   "outputs": [],
   "source": [
    "df=pd.DataFrame()\n",
    "df['artist'] = artist_list"
   ]
  },
  {
   "cell_type": "code",
   "execution_count": null,
   "id": "5c80dc97",
   "metadata": {},
   "outputs": [],
   "source": [
    "df"
   ]
  },
  {
   "cell_type": "code",
   "execution_count": null,
   "id": "431f8373",
   "metadata": {},
   "outputs": [],
   "source": [
    "hof_df"
   ]
  },
  {
   "cell_type": "code",
   "execution_count": null,
   "id": "bd6c6fe2",
   "metadata": {},
   "outputs": [],
   "source": [
    "list(zip(artist_list,years_inducted))"
   ]
  },
  {
   "cell_type": "code",
   "execution_count": null,
   "id": "0aee577c",
   "metadata": {},
   "outputs": [],
   "source": [
    "results_together = pd.DataFrame(list(zip(artist_list, years_inducted)), columns = ['Artist', 'Year'])\n",
    "results_together"
   ]
  },
  {
   "cell_type": "markdown",
   "id": "2a13b576",
   "metadata": {},
   "source": [
    "### Question 4"
   ]
  },
  {
   "cell_type": "code",
   "execution_count": null,
   "id": "e64c327b",
   "metadata": {},
   "outputs": [],
   "source": [
    "test_list = [1, 2, 3, 4]\n",
    "test_list.extend([5, 6, 7, 8])\n",
    "test_list"
   ]
  },
  {
   "cell_type": "code",
   "execution_count": null,
   "id": "1e33c9a6",
   "metadata": {},
   "outputs": [],
   "source": [
    "all_artist = []\n",
    "all_years_inducted = []\n",
    "for page in range(1, 17):\n",
    "    if page == 1:\n",
    "        hof_url = \"https://countrymusichalloffame.org/hall-of-fame/members/\"\n",
    "    else:\n",
    "        hof_url = f\"https://countrymusichalloffame.org/hall-of-fame/members/page/{page}\"\n",
    "    response = requests.get(hof_url)\n",
    "    soup = BeautifulSoup(response.content, 'lxml')\n",
    "    \n",
    "    artist_page = soup.find_all('h3')\n",
    "    artist_list_page = [artist.text for artist in artist_page]\n",
    "    \n",
    "    years_inducted_page =soup.find_all('p')\n",
    "    years_inducted_list_page = [int(re.findall(\"\\d+\", year_str.text)[0]) for year_str in years_inducted_page\n",
    "                               if re.match(\"\\s+Inducted\\s\\d+\\s+\", year_str.text)]\n",
    "    \n",
    "    all_artist.extend(artist_list_page)\n",
    "    all_years_inducted.extend(years_inducted_list_page)"
   ]
  },
  {
   "cell_type": "code",
   "execution_count": null,
   "id": "c02fa828",
   "metadata": {},
   "outputs": [],
   "source": [
    "#all_artist"
   ]
  },
  {
   "cell_type": "code",
   "execution_count": null,
   "id": "e4662b19",
   "metadata": {},
   "outputs": [],
   "source": [
    "hof_df_all = pd.DataFrame(\n",
    "    {\n",
    "        \"artist\": all_artist,\n",
    "        \"year_inducted\": all_years_inducted\n",
    "    }\n",
    ")\n",
    "hof_df_all.head()"
   ]
  },
  {
   "cell_type": "code",
   "execution_count": null,
   "id": "57314f95",
   "metadata": {},
   "outputs": [],
   "source": [
    "hof_df_all['name_len'] = hof_df_all['artist'].apply(lambda x: len(x))"
   ]
  },
  {
   "cell_type": "code",
   "execution_count": null,
   "id": "f42f314b",
   "metadata": {},
   "outputs": [],
   "source": [
    "hof_df_all.info()"
   ]
  },
  {
   "cell_type": "code",
   "execution_count": null,
   "id": "6bf1af10",
   "metadata": {},
   "outputs": [],
   "source": [
    "#hof_df_all.iloc[50:100]"
   ]
  },
  {
   "cell_type": "markdown",
   "id": "7f86b2ed",
   "metadata": {},
   "source": [
    "### Question 5"
   ]
  },
  {
   "cell_type": "code",
   "execution_count": null,
   "id": "985cf0f8",
   "metadata": {},
   "outputs": [],
   "source": [
    "hof_df_all.year_inducted.value_counts().sort_index().plot.bar()"
   ]
  },
  {
   "cell_type": "code",
   "execution_count": null,
   "id": "deeb1ed9",
   "metadata": {},
   "outputs": [],
   "source": [
    "hof_sorted = hof_df_all.year_inducted.value_counts().sort_index().reset_index()"
   ]
  },
  {
   "cell_type": "code",
   "execution_count": null,
   "id": "c134d999",
   "metadata": {},
   "outputs": [],
   "source": [
    "#hof_sorted"
   ]
  },
  {
   "cell_type": "code",
   "execution_count": null,
   "id": "2085d312",
   "metadata": {},
   "outputs": [],
   "source": [
    "plt.figure(figsize = (18,6))\n",
    "sns.barplot(x = hof_sorted['index'], y = hof_sorted['year_inducted'])"
   ]
  },
  {
   "cell_type": "code",
   "execution_count": null,
   "id": "7c290457",
   "metadata": {},
   "outputs": [],
   "source": [
    "plt.plot()"
   ]
  },
  {
   "cell_type": "markdown",
   "id": "eafbc7c6",
   "metadata": {},
   "source": [
    "### Bonus Question"
   ]
  },
  {
   "cell_type": "code",
   "execution_count": null,
   "id": "4af93880",
   "metadata": {},
   "outputs": [],
   "source": [
    "test_string = \"Birth: September 15, 1903 - Death: November 23, 1992 Birthplace: Maynardville, Tennessee\""
   ]
  },
  {
   "cell_type": "code",
   "execution_count": null,
   "id": "33ec81e8",
   "metadata": {},
   "outputs": [],
   "source": []
  },
  {
   "cell_type": "code",
   "execution_count": null,
   "id": "5ceb4c3c",
   "metadata": {},
   "outputs": [],
   "source": [
    "re.findall(\"Birth: (\\w+)\", test_string)"
   ]
  },
  {
   "cell_type": "code",
   "execution_count": null,
   "id": "ae775d88",
   "metadata": {},
   "outputs": [],
   "source": [
    "re.sub(\"[a-z]\", \"\", test_string)"
   ]
  },
  {
   "cell_type": "code",
   "execution_count": null,
   "id": "46cc8e01",
   "metadata": {},
   "outputs": [],
   "source": []
  },
  {
   "cell_type": "code",
   "execution_count": null,
   "id": "99dabd18",
   "metadata": {},
   "outputs": [],
   "source": [
    "roy_url = 'https://countrymusichalloffame.org/artist/roy-acuff/'\n",
    "roy_response = requests.get(roy_url)\n",
    "roy_soup = BeautifulSoup(roy_response.content, 'lxml')"
   ]
  },
  {
   "cell_type": "code",
   "execution_count": null,
   "id": "c665d47b",
   "metadata": {},
   "outputs": [],
   "source": [
    "info_style = 'margin-top: 20px;color: #50565A;font-size: 14px;font-weight: 500;letter-spacing: 1.5px;line-height: 25px; text-transform: uppercase;'\n",
    "roy_info = roy_soup.find_all('p', attrs = {'style': info_style})"
   ]
  },
  {
   "cell_type": "code",
   "execution_count": null,
   "id": "09aa90d2",
   "metadata": {},
   "outputs": [],
   "source": [
    "info_style = 'margin-top: 20px;color: #50565A;font-size: 14px;font-weight: 500;letter-spacing: 1.5px;line-height: 25px; text-transform: uppercase;'\n",
    "births = []\n",
    "deaths = []\n",
    "birthplaces = []\n",
    "for artist_name in hof_df_all[\"artist\"].to_list():\n",
    "    artist_page_name = '-'.join(re.findall(\"\\w+\", artist_name)).lower()\n",
    "    print(artist_page_name)\n",
    "    \n",
    "    artist_url = f'https://countrymusichalloffame.org/artist/{artist_page_name}/'\n",
    "    artist_response = requests.get(artist_url)\n",
    "    soup = BeautifulSoup(artist_response.content, 'lxml')\n",
    "    print(artist_url)\n",
    "    \n",
    "    artist_info = soup.find_all('p', attrs = {'style': info_style})\n",
    "    if artist_info:\n",
    "        birthdate = re.findall(\"Birth: (\\w+\\s\\d+, \\d+)\\s\", artist_info[0].text)\n",
    "        deathdate = re.findall(\"Death: (\\w+\\s\\d+, \\d+)\\s\", artist_info[0].text)\n",
    "        birthplace = re.findall(\"Birthplace: (.+)\\s$\", artist_info[0].text)\n",
    "    else:\n",
    "        birthdate = [\"\"]\n",
    "        deathdate = [\"\"]\n",
    "        birthplace = [\"\"]\n",
    "    if len(birthdate) == 0:\n",
    "        birthdate = [\"\"]\n",
    "    if len(deathdate) == 0:\n",
    "        deathdate = [\"\"]\n",
    "    if len(birthplace) == 0:\n",
    "        birthplace = [\"\"]\n",
    "    print(artist_info)\n",
    "    \n",
    "    print(f\"Birth Date: {birthdate}\")\n",
    "    \n",
    "    print(f\"Death Date: {deathdate}\")\n",
    "    \n",
    "    print(f\"Birthplace: {birthplace}\")\n",
    "    \n",
    "    print(\"==========================\")\n",
    "    births.extend(birthdate)\n",
    "    deaths.extend(deathdate)\n",
    "    birthplaces.extend(birthplace)\n",
    "    \n",
    "   "
   ]
  },
  {
   "cell_type": "code",
   "execution_count": null,
   "id": "e46580eb",
   "metadata": {},
   "outputs": [],
   "source": []
  },
  {
   "cell_type": "code",
   "execution_count": null,
   "id": "771c4adc",
   "metadata": {},
   "outputs": [],
   "source": []
  },
  {
   "cell_type": "code",
   "execution_count": null,
   "id": "596f4ed1",
   "metadata": {},
   "outputs": [],
   "source": []
  },
  {
   "cell_type": "code",
   "execution_count": null,
   "id": "98bdc589",
   "metadata": {},
   "outputs": [],
   "source": [
    "mbr=str(tables[0])"
   ]
  },
  {
   "cell_type": "code",
   "execution_count": null,
   "id": "60889e27",
   "metadata": {},
   "outputs": [],
   "source": [
    "re.findall(r\"[^()0-9-]+\", mbr)"
   ]
  },
  {
   "cell_type": "code",
   "execution_count": null,
   "id": "5a422b88",
   "metadata": {},
   "outputs": [],
   "source": [
    "from urllib.request import urlopen\n",
    "from bs4 import BeautifulSoup\n",
    "\n",
    "url = \"https://countrymusichalloffame.org/hall-of-fame/members/\"\n",
    "html = urlopen(url).read()\n",
    "soup = BeautifulSoup(html, features=\"html.parser\")\n",
    "\n",
    "# delete all script and style elements\n",
    "for script in soup([\"script\", \"style\"]):\n",
    "    script.extract()    # extract\n",
    "\n",
    "# get text\n",
    "text = soup.body.get_text(separator= ' ')\n",
    "\n",
    "# break into lines and remove leading and trailing space on each\n",
    "lines = (line.strip() for line in text.splitlines())\n",
    "# break multi-headlines into a line each\n",
    "chunks = (phrase.strip() for line in lines for phrase in line.split(\"  \"))\n",
    "# drop blank lines\n",
    "text = '\\n'.join(chunk for chunk in chunks if chunk)\n",
    "\n",
    "print(text)"
   ]
  },
  {
   "cell_type": "code",
   "execution_count": null,
   "id": "ed2fc633",
   "metadata": {},
   "outputs": [],
   "source": [
    "ppl=str(text[0])"
   ]
  },
  {
   "cell_type": "code",
   "execution_count": null,
   "id": "8de7918e",
   "metadata": {},
   "outputs": [],
   "source": [
    "re.findall(r\"Roy\", ppl)"
   ]
  },
  {
   "cell_type": "code",
   "execution_count": null,
   "id": "51a5f910",
   "metadata": {},
   "outputs": [],
   "source": []
  },
  {
   "cell_type": "code",
   "execution_count": null,
   "id": "326e0970",
   "metadata": {},
   "outputs": [],
   "source": [
    "members = country_star.find_all('div', attrs = {'class': 'vertical-card_content--title'})\n",
    "members "
   ]
  },
  {
   "cell_type": "code",
   "execution_count": null,
   "id": "78adebbd",
   "metadata": {},
   "outputs": [],
   "source": [
    "type(members)"
   ]
  },
  {
   "cell_type": "code",
   "execution_count": null,
   "id": "a4ad4179",
   "metadata": {},
   "outputs": [],
   "source": [
    "for members in members:\n",
    "     print(members, end='\\n'*2)"
   ]
  },
  {
   "cell_type": "markdown",
   "id": "89c6c1f3",
   "metadata": {},
   "source": [
    "artist = []\n",
    "for i in range(len(members)):\n",
    "    name = members[i].get_text.replace('\\n','')\n",
    "artist.append(name)\n",
    "print(artist)\n",
    "type(members)"
   ]
  },
  {
   "cell_type": "code",
   "execution_count": null,
   "id": "28bc99c3",
   "metadata": {},
   "outputs": [],
   "source": []
  }
 ],
 "metadata": {
  "kernelspec": {
   "display_name": "Python 3",
   "language": "python",
   "name": "python3"
  },
  "language_info": {
   "codemirror_mode": {
    "name": "ipython",
    "version": 3
   },
   "file_extension": ".py",
   "mimetype": "text/x-python",
   "name": "python",
   "nbconvert_exporter": "python",
   "pygments_lexer": "ipython3",
   "version": "3.8.8"
  }
 },
 "nbformat": 4,
 "nbformat_minor": 5
}
